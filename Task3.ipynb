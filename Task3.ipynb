{
 "cells": [
  {
   "cell_type": "markdown",
   "id": "934de0ce-4b17-43ef-b6e3-bf99bb02d3b2",
   "metadata": {},
   "source": [
    "# List of probabilities [0.46, 0.69, 0.44, 0.64, 0.77, 0.82, 0.73, 0.55, 0.69, 0.77]"
   ]
  },
  {
   "cell_type": "code",
   "execution_count": null,
   "id": "c7eb72db-c48f-47e1-86fe-fa960d42f820",
   "metadata": {},
   "outputs": [],
   "source": [
    "import numpy as np\n",
    "\n",
    "prob_of_outcome = np.array([0.8, 0.9, 0.1, 0.2, 0.3])\n",
    "prob = np.array([0.2, 0.2, 0.2, 0.2, 0.2])\n",
    "flips = ['H', 'T', 'H', 'H', 'H', 'T', 'T', 'H', 'H']\n",
    "prob_H_after_flip = []"
   ]
  },
  {
   "cell_type": "code",
   "execution_count": 2,
   "id": "f1cf4c06-2792-44fd-88ec-0bd9cc919f8d",
   "metadata": {},
   "outputs": [
    {
     "name": "stdout",
     "output_type": "stream",
     "text": [
      "0.46\n",
      "0.69\n",
      "0.44\n",
      "0.64\n",
      "0.77\n",
      "0.82\n",
      "0.73\n",
      "0.55\n",
      "0.69\n",
      "0.77\n"
     ]
    }
   ],
   "source": [
    "for flip in flips:\n",
    "\n",
    "    prob_H = np.sum(prob_of_outcome * prob)\n",
    "    print(round(prob_H, 2))\n",
    "\n",
    "    # Updating coin probabilities using Bayes' theorem\n",
    "    if flip == 'H':\n",
    "        prob = (prob_of_outcome * prob) / prob_H\n",
    "    else:\n",
    "        prob_T = 1 - prob_H\n",
    "        prob = ((1 - prob_of_outcome) * prob) / prob_T\n",
    "\n",
    "prob_H = np.sum(prob_of_outcome * prob)\n",
    "print(round(prob_H, 2))"
   ]
  }
 ],
 "metadata": {
  "kernelspec": {
   "display_name": "Python 3 (ipykernel)",
   "language": "python",
   "name": "python3"
  },
  "language_info": {
   "codemirror_mode": {
    "name": "ipython",
    "version": 3
   },
   "file_extension": ".py",
   "mimetype": "text/x-python",
   "name": "python",
   "nbconvert_exporter": "python",
   "pygments_lexer": "ipython3",
   "version": "3.12.4"
  }
 },
 "nbformat": 4,
 "nbformat_minor": 5
}
